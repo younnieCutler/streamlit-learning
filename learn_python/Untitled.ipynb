{
 "cells": [
  {
   "cell_type": "code",
   "execution_count": null,
   "id": "f5177300-1432-42c2-8fc2-1fce2858e62b",
   "metadata": {},
   "outputs": [],
   "source": [
    "a = 1"
   ]
  },
  {
   "cell_type": "code",
   "execution_count": null,
   "id": "2d3912f2-c85b-42c5-a382-50c7c48e98dc",
   "metadata": {},
   "outputs": [],
   "source": [
    "b = 2.3"
   ]
  },
  {
   "cell_type": "code",
   "execution_count": null,
   "id": "b9917700-1e27-4560-8b1f-a53b449613a5",
   "metadata": {},
   "outputs": [],
   "source": [
    "c = -5"
   ]
  },
  {
   "cell_type": "code",
   "execution_count": null,
   "id": "305904a9-acf4-4beb-a838-45a993ffdb1e",
   "metadata": {},
   "outputs": [],
   "source": []
  },
  {
   "cell_type": "code",
   "execution_count": null,
   "id": "eb373640-9a42-4ee0-8a4f-4fec87d91d9d",
   "metadata": {},
   "outputs": [],
   "source": []
  },
  {
   "cell_type": "code",
   "execution_count": null,
   "id": "95895a62-fc13-47b9-b436-522bf95ac7d1",
   "metadata": {},
   "outputs": [],
   "source": []
  },
  {
   "cell_type": "code",
   "execution_count": null,
   "id": "4b759277-1bcc-4679-8e16-eefd3ee13cc2",
   "metadata": {},
   "outputs": [],
   "source": []
  },
  {
   "cell_type": "code",
   "execution_count": null,
   "id": "fcc146ed-c62c-488c-a82f-cfe8a1952ddb",
   "metadata": {},
   "outputs": [],
   "source": []
  },
  {
   "cell_type": "code",
   "execution_count": null,
   "id": "bbb242e1-2fc2-413e-b2a8-411336c29e9d",
   "metadata": {},
   "outputs": [],
   "source": []
  },
  {
   "cell_type": "code",
   "execution_count": null,
   "id": "e194ca7b-c64d-4157-862a-c9fcf3e552a7",
   "metadata": {},
   "outputs": [],
   "source": []
  },
  {
   "cell_type": "code",
   "execution_count": null,
   "id": "78dfb36b-6941-45f4-b470-3f3d5cafa302",
   "metadata": {},
   "outputs": [],
   "source": []
  },
  {
   "cell_type": "code",
   "execution_count": null,
   "id": "c7e7d91e-4997-4915-94ef-a35fc4aa3e44",
   "metadata": {},
   "outputs": [],
   "source": []
  },
  {
   "cell_type": "code",
   "execution_count": null,
   "id": "4e372111-309d-4200-840e-ca9a92870fed",
   "metadata": {},
   "outputs": [],
   "source": []
  },
  {
   "cell_type": "code",
   "execution_count": null,
   "id": "72c22e3c-2806-4db1-b2cd-4cab0d6b1f77",
   "metadata": {},
   "outputs": [],
   "source": []
  },
  {
   "cell_type": "code",
   "execution_count": null,
   "id": "1fce1039-eff6-4ad0-864e-c2a3c1f3097f",
   "metadata": {},
   "outputs": [],
   "source": []
  },
  {
   "cell_type": "code",
   "execution_count": null,
   "id": "4e96464c-dd8b-4007-a100-d05853bd79e1",
   "metadata": {},
   "outputs": [],
   "source": []
  }
 ],
 "metadata": {
  "kernelspec": {
   "display_name": "Python 3 (ipykernel)",
   "language": "python",
   "name": "python3"
  },
  "language_info": {
   "codemirror_mode": {
    "name": "ipython",
    "version": 3
   },
   "file_extension": ".py",
   "mimetype": "text/x-python",
   "name": "python",
   "nbconvert_exporter": "python",
   "pygments_lexer": "ipython3",
   "version": "3.13.5"
  }
 },
 "nbformat": 4,
 "nbformat_minor": 5
}
